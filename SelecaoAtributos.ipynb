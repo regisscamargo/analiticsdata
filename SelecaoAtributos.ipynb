{
  "cells": [
    {
      "cell_type": "code",
      "execution_count": 1,
      "metadata": {
        "id": "nmE6ku5PH_1S"
      },
      "outputs": [],
      "source": [
        "import pandas as pd\n",
        "from sklearn.model_selection import train_test_split\n",
        "from sklearn.naive_bayes import GaussianNB\n",
        "from sklearn.metrics import accuracy_score\n",
        "from sklearn.feature_selection import chi2, SelectKBest"
      ]
    },
    {
      "cell_type": "code",
      "execution_count": 3,
      "metadata": {
        "colab": {
          "base_uri": "https://localhost:8080/"
        },
        "id": "2XbS-VsGSKVX",
        "outputId": "dd27e436-218d-4795-fcd3-2290451afe9a"
      },
      "outputs": [
        {
          "data": {
            "text/plain": [
              "(3279, 1559)"
            ]
          },
          "execution_count": 3,
          "metadata": {},
          "output_type": "execute_result"
        }
      ],
      "source": [
        "anuncio = pd.read_csv('ad.data', header=None)\n",
        "anuncio.shape"
      ]
    },
    {
      "cell_type": "code",
      "execution_count": 4,
      "metadata": {
        "id": "WqAsn7E-SpN2"
      },
      "outputs": [],
      "source": [
        "X = anuncio.iloc[:,:-1].values\n",
        "y = anuncio.iloc[:,-1].values"
      ]
    },
    {
      "cell_type": "code",
      "execution_count": 5,
      "metadata": {
        "colab": {
          "base_uri": "https://localhost:8080/"
        },
        "id": "Fus7OUKXTCJn",
        "outputId": "2819a7bc-109a-42c3-ecf9-f84d5d0f4edc"
      },
      "outputs": [
        {
          "data": {
            "text/plain": [
              "array([[125.    , 125.    ,   1.    , ...,   0.    ,   0.    ,   0.    ],\n",
              "       [ 57.    , 468.    ,   8.2105, ...,   0.    ,   0.    ,   0.    ],\n",
              "       [ 33.    , 230.    ,   6.9696, ...,   0.    ,   0.    ,   0.    ],\n",
              "       ...,\n",
              "       [ 23.    , 120.    ,   5.2173, ...,   0.    ,   0.    ,   0.    ],\n",
              "       [  0.    ,   0.    ,   0.    , ...,   0.    ,   0.    ,   0.    ],\n",
              "       [ 40.    ,  40.    ,   1.    , ...,   0.    ,   0.    ,   0.    ]])"
            ]
          },
          "execution_count": 5,
          "metadata": {},
          "output_type": "execute_result"
        }
      ],
      "source": [
        "X"
      ]
    },
    {
      "cell_type": "code",
      "execution_count": 6,
      "metadata": {
        "colab": {
          "base_uri": "https://localhost:8080/"
        },
        "id": "I4W7FaUQTC_t",
        "outputId": "5d8e78e9-a888-4aa4-a6b6-bc1f97d53ea6"
      },
      "outputs": [
        {
          "data": {
            "text/plain": [
              "array(['ad.', 'ad.', 'ad.', ..., 'nonad.', 'nonad.', 'nonad.'],\n",
              "      dtype=object)"
            ]
          },
          "execution_count": 6,
          "metadata": {},
          "output_type": "execute_result"
        }
      ],
      "source": [
        "y"
      ]
    },
    {
      "cell_type": "code",
      "execution_count": 7,
      "metadata": {
        "id": "GB2APor0TMen"
      },
      "outputs": [],
      "source": [
        "X_treinamento, X_teste, y_treinamento, y_teste = train_test_split(X,y, test_size = 0.3, random_state=0)"
      ]
    },
    {
      "cell_type": "code",
      "execution_count": 8,
      "metadata": {
        "colab": {
          "base_uri": "https://localhost:8080/"
        },
        "id": "GidCEz53TZpn",
        "outputId": "0e2ba4b5-da89-435d-960b-f37fb2837e51"
      },
      "outputs": [
        {
          "name": "stdout",
          "output_type": "stream",
          "text": [
            "0.7764227642276422\n"
          ]
        }
      ],
      "source": [
        "modelo1 = GaussianNB()\n",
        "modelo1.fit(X_treinamento,y_treinamento)\n",
        "previsoes1 = modelo1.predict(X_teste)\n",
        "print(accuracy_score(y_teste,previsoes1))"
      ]
    },
    {
      "cell_type": "code",
      "execution_count": 9,
      "metadata": {
        "id": "AGCglhLZT3dw"
      },
      "outputs": [],
      "source": [
        "selecao = SelectKBest(chi2,k=7)\n",
        "X_novo = selecao.fit_transform(X,y)"
      ]
    },
    {
      "cell_type": "code",
      "execution_count": 10,
      "metadata": {
        "colab": {
          "base_uri": "https://localhost:8080/"
        },
        "id": "viArCFohUbcm",
        "outputId": "30104f4b-7c46-4c67-fb00-abf719d243a7"
      },
      "outputs": [
        {
          "data": {
            "text/plain": [
              "array([[125.    , 125.    ,   1.    , ...,   1.    ,   0.    ,   1.    ],\n",
              "       [ 57.    , 468.    ,   8.2105, ...,   1.    ,   0.    ,   0.    ],\n",
              "       [ 33.    , 230.    ,   6.9696, ...,   0.    ,   0.    ,   0.    ],\n",
              "       ...,\n",
              "       [ 23.    , 120.    ,   5.2173, ...,   0.    ,   0.    ,   0.    ],\n",
              "       [  0.    ,   0.    ,   0.    , ...,   0.    ,   0.    ,   0.    ],\n",
              "       [ 40.    ,  40.    ,   1.    , ...,   0.    ,   0.    ,   0.    ]])"
            ]
          },
          "execution_count": 10,
          "metadata": {},
          "output_type": "execute_result"
        }
      ],
      "source": [
        "X_novo"
      ]
    },
    {
      "cell_type": "code",
      "execution_count": 11,
      "metadata": {
        "colab": {
          "base_uri": "https://localhost:8080/"
        },
        "id": "t7XKikuVUczG",
        "outputId": "647a369e-8919-48b1-b7d7-3f187a317037"
      },
      "outputs": [
        {
          "data": {
            "text/plain": [
              "(3279, 7)"
            ]
          },
          "execution_count": 11,
          "metadata": {},
          "output_type": "execute_result"
        }
      ],
      "source": [
        "X_novo.shape"
      ]
    },
    {
      "cell_type": "code",
      "execution_count": 12,
      "metadata": {
        "colab": {
          "base_uri": "https://localhost:8080/"
        },
        "id": "FRz2uRz_UkVW",
        "outputId": "4e148bdc-3057-479d-d0ca-6a94a3beac60"
      },
      "outputs": [
        {
          "name": "stdout",
          "output_type": "stream",
          "text": [
            "[ True  True  True ... False False False]\n"
          ]
        }
      ],
      "source": [
        "print(selecao.get_support())"
      ]
    },
    {
      "cell_type": "code",
      "execution_count": 13,
      "metadata": {
        "id": "7nkUtDHsUtVm"
      },
      "outputs": [],
      "source": [
        "X_treinamento, X_teste, y_treinamento, y_teste = train_test_split(X_novo,y, test_size = 0.3, random_state=0)"
      ]
    },
    {
      "cell_type": "code",
      "execution_count": 14,
      "metadata": {
        "colab": {
          "base_uri": "https://localhost:8080/"
        },
        "id": "0-uKc-XfU5TP",
        "outputId": "cb88b2a6-db6d-49a8-fb9a-3fc68d005464"
      },
      "outputs": [
        {
          "name": "stdout",
          "output_type": "stream",
          "text": [
            "0.9451219512195121\n"
          ]
        }
      ],
      "source": [
        "modelo2 = GaussianNB()\n",
        "modelo2.fit(X_treinamento,y_treinamento)\n",
        "previsoes2 = modelo2.predict(X_teste)\n",
        "print(accuracy_score(y_teste,previsoes2))"
      ]
    }
  ],
  "metadata": {
    "colab": {
      "provenance": []
    },
    "kernelspec": {
      "display_name": "Python 3.10.6 64-bit",
      "language": "python",
      "name": "python3"
    },
    "language_info": {
      "name": "python",
      "version": "3.10.6"
    },
    "vscode": {
      "interpreter": {
        "hash": "c779b03a0f03773edebbfd6002fa9af1cb2df7ae08b39da69247af895103ca0f"
      }
    }
  },
  "nbformat": 4,
  "nbformat_minor": 0
}
